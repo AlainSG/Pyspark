{
 "cells": [
  {
   "cell_type": "markdown",
   "metadata": {},
   "source": [
    "# Tutorial Pyspark"
   ]
  },
  {
   "cell_type": "markdown",
   "metadata": {},
   "source": [
    "## Crear una sesión de Pyspark"
   ]
  },
  {
   "cell_type": "code",
   "execution_count": null,
   "metadata": {},
   "outputs": [
    {
     "name": "stderr",
     "output_type": "stream",
     "text": [
      "25/03/24 12:26:06 WARN Utils: Your hostname, MacBook-Pro-de-Alain.local resolves to a loopback address: 127.0.0.1; using 192.168.1.143 instead (on interface en0)\n",
      "25/03/24 12:26:06 WARN Utils: Set SPARK_LOCAL_IP if you need to bind to another address\n",
      "Setting default log level to \"WARN\".\n",
      "To adjust logging level use sc.setLogLevel(newLevel). For SparkR, use setLogLevel(newLevel).\n",
      "25/03/24 12:26:07 WARN NativeCodeLoader: Unable to load native-hadoop library for your platform... using builtin-java classes where applicable\n"
     ]
    },
    {
     "name": "stdout",
     "output_type": "stream",
     "text": [
      "Versión de Spark: 3.5.5\n"
     ]
    }
   ],
   "source": [
    "import findspark\n",
    "findspark.init()  # Ayuda a encontrar Spark si no está en el PATH\n",
    "from pyspark.sql import SparkSession\n",
    "# Crear una sesión de Spark\n",
    "spark = SparkSession.builder.appName(\"TutorialPySpark\").getOrCreate()\n",
    "# Verificar que Spark está funcionando\n",
    "print(f\"Versión de Spark: {spark.version}\")"
   ]
  },
  {
   "cell_type": "markdown",
   "metadata": {},
   "source": [
    "# Creamos un dataframe"
   ]
  },
  {
   "cell_type": "code",
   "execution_count": 3,
   "metadata": {},
   "outputs": [
    {
     "name": "stderr",
     "output_type": "stream",
     "text": [
      "                                                                                \r"
     ]
    },
    {
     "name": "stdout",
     "output_type": "stream",
     "text": [
      "+------+----+---------+\n",
      "|Nombre|Edad|     País|\n",
      "+------+----+---------+\n",
      "|  Juan|  25|   México|\n",
      "|   Ana|  30|   España|\n",
      "|  Luis|  35|Argentina|\n",
      "+------+----+---------+\n",
      "\n"
     ]
    }
   ],
   "source": [
    "# Crear un DataFrame con datos manuales\n",
    "datos = [(\"Juan\", 25, \"México\"), \n",
    "         (\"Ana\", 30, \"España\"), \n",
    "         (\"Luis\", 35, \"Argentina\")]\n",
    "columnas = [\"Nombre\", \"Edad\", \"País\"]\n",
    "df = spark.createDataFrame(datos, columnas)\n",
    "# Mostrar el DataFrame\n",
    "df.show()"
   ]
  },
  {
   "cell_type": "markdown",
   "metadata": {},
   "source": [
    "## Leer un archivo .csv"
   ]
  },
  {
   "cell_type": "code",
   "execution_count": 4,
   "metadata": {},
   "outputs": [
    {
     "name": "stdout",
     "output_type": "stream",
     "text": [
      "+------+----+---------+\n",
      "|Nombre|Edad|     País|\n",
      "+------+----+---------+\n",
      "|  Juan|  25|   México|\n",
      "|   Ana|  30|   España|\n",
      "|  Luis|  35|Argentina|\n",
      "+------+----+---------+\n",
      "\n"
     ]
    }
   ],
   "source": [
    "df_csv = spark.read.csv(\"datos.csv\", header=True, inferSchema=True)\n",
    "df_csv.show()"
   ]
  },
  {
   "cell_type": "markdown",
   "metadata": {},
   "source": [
    "## Operaciones báscias con Dataframes"
   ]
  },
  {
   "cell_type": "code",
   "execution_count": 5,
   "metadata": {},
   "outputs": [
    {
     "name": "stdout",
     "output_type": "stream",
     "text": [
      "root\n",
      " |-- Nombre: string (nullable = true)\n",
      " |-- Edad: long (nullable = true)\n",
      " |-- País: string (nullable = true)\n",
      "\n",
      "+------+\n",
      "|Nombre|\n",
      "+------+\n",
      "|  Juan|\n",
      "|   Ana|\n",
      "|  Luis|\n",
      "+------+\n",
      "\n",
      "+------+----+---------+\n",
      "|Nombre|Edad|     País|\n",
      "+------+----+---------+\n",
      "|   Ana|  30|   España|\n",
      "|  Luis|  35|Argentina|\n",
      "+------+----+---------+\n",
      "\n",
      "+---------+-----+\n",
      "|     País|count|\n",
      "+---------+-----+\n",
      "|   México|    1|\n",
      "|   España|    1|\n",
      "|Argentina|    1|\n",
      "+---------+-----+\n",
      "\n"
     ]
    }
   ],
   "source": [
    "# Ver esquema del DataFrame\n",
    "df.printSchema()\n",
    "\n",
    "# Seleccionar una sola columna\n",
    "df.select(\"Nombre\").show()\n",
    "\n",
    "# Filtrar datos (Edad > 28)\n",
    "df.filter(df[\"Edad\"] > 28).show()\n",
    "\n",
    "# Contar registros por grupo\n",
    "df.groupBy(\"País\").count().show()"
   ]
  },
  {
   "cell_type": "markdown",
   "metadata": {},
   "source": [
    "## Agregar, modificar y transformar columnas"
   ]
  },
  {
   "cell_type": "code",
   "execution_count": 6,
   "metadata": {},
   "outputs": [
    {
     "name": "stdout",
     "output_type": "stream",
     "text": [
      "+------+----+---------+-------+----------+\n",
      "|Nombre|Edad|     País|Edad+10|País_MAYUS|\n",
      "+------+----+---------+-------+----------+\n",
      "|  Juan|  25|   México|     35|    MÉXICO|\n",
      "|   Ana|  30|   España|     40|    ESPAÑA|\n",
      "|  Luis|  35|Argentina|     45| ARGENTINA|\n",
      "+------+----+---------+-------+----------+\n",
      "\n"
     ]
    }
   ],
   "source": [
    "from pyspark.sql.functions import col, upper\n",
    "\n",
    "# Agregar una nueva columna con la edad en 10 años\n",
    "df = df.withColumn(\"Edad+10\", df[\"Edad\"] + 10)\n",
    "\n",
    "# Convertir la columna \"País\" a mayúsculas\n",
    "df = df.withColumn(\"País_MAYUS\", upper(col(\"País\")))\n",
    "\n",
    "df.show()"
   ]
  },
  {
   "cell_type": "markdown",
   "metadata": {},
   "source": [
    "## Uso de SQL en PySpark"
   ]
  },
  {
   "cell_type": "code",
   "execution_count": 7,
   "metadata": {},
   "outputs": [
    {
     "name": "stdout",
     "output_type": "stream",
     "text": [
      "+------+----+\n",
      "|Nombre|Edad|\n",
      "+------+----+\n",
      "|   Ana|  30|\n",
      "|  Luis|  35|\n",
      "+------+----+\n",
      "\n"
     ]
    }
   ],
   "source": [
    "# Registrar el DataFrame como tabla SQL\n",
    "df.createOrReplaceTempView(\"personas\")\n",
    "# Ejecutar una consulta SQL\n",
    "resultado = spark.sql(\"SELECT Nombre, Edad FROM personas WHERE Edad > 28\")\n",
    "resultado.show()\n"
   ]
  },
  {
   "cell_type": "markdown",
   "metadata": {},
   "source": [
    "## Guardar y exportar datos"
   ]
  },
  {
   "cell_type": "code",
   "execution_count": 8,
   "metadata": {},
   "outputs": [
    {
     "name": "stderr",
     "output_type": "stream",
     "text": [
      "                                                                                \r"
     ]
    }
   ],
   "source": [
    "# Guardar en formato CSV\n",
    "df.write.csv(\"salida.csv\", header=True)\n",
    "\n",
    "# Guardar en formato Parquet (más eficiente)\n",
    "df.write.parquet(\"salida.parquet\")"
   ]
  }
 ],
 "metadata": {
  "kernelspec": {
   "display_name": "pyspark_venv",
   "language": "python",
   "name": "python3"
  },
  "language_info": {
   "codemirror_mode": {
    "name": "ipython",
    "version": 3
   },
   "file_extension": ".py",
   "mimetype": "text/x-python",
   "name": "python",
   "nbconvert_exporter": "python",
   "pygments_lexer": "ipython3",
   "version": "3.12.2"
  }
 },
 "nbformat": 4,
 "nbformat_minor": 2
}
